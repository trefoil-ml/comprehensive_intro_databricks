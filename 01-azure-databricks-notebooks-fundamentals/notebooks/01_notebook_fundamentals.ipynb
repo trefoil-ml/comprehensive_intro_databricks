{
 "cells": [
  {
   "cell_type": "markdown",
   "metadata": {},
   "source": [
    "# Databricks Notebook Fundamentals"
   ]
  },
  {
   "cell_type": "markdown",
   "metadata": {},
   "source": [
    "A **notebook** is a collection **cells**. These cells are run to execute code, render formatted text or display graphical visualizations."
   ]
  },
  {
   "cell_type": "markdown",
   "metadata": {},
   "source": [
    "## Understanding Code Cells and Markdown Cells"
   ]
  },
  {
   "cell_type": "markdown",
   "metadata": {},
   "source": [
    "The following cell (with the gray text area) is a code cell."
   ]
  },
  {
   "cell_type": "code",
   "execution_count": 1,
   "metadata": {},
   "outputs": [
    {
     "data": {
      "text/plain": [
       "2"
      ]
     },
     "execution_count": 1,
     "metadata": {},
     "output_type": "execute_result"
    }
   ],
   "source": [
    "# This is a code cell\n",
    "# By default, a new cell added in a notebook is a code cell\n",
    "1 + 1"
   ]
  },
  {
   "cell_type": "markdown",
   "metadata": {},
   "source": [
    "In this case, the code is written in Python. The default language for a cell is provided by the notebook, as can be seen by observing the title of the notebook, near the top left of the window. In this case it reads `01 Notebook Fundamentals (Python)`. The notebook language is always shown in parenthesis following the notebook title.\n",
    "\n",
    "In order to run a notebook cell, your notebook must be attached to a cluster. If your notebook is not attached to a cluster, you will be prompted to do so before the cell can run.\n",
    "\n",
    "To attach a notebook to a cluster:\n",
    "\n",
    "1. In the notebook toolbar, click ![Clusters Icon Detached Cluster Dropdown](https://docs.azuredatabricks.net/_images/cluster-icon.png) **Detached** ![](https://docs.azuredatabricks.net/_images/down-arrow.png).\n",
    "2. From the drop-down, select a cluster.\n",
    "\n",
    "The code cell above has not run yet, so the expressions of `1 + 1` has not been evaluated. To run the code cell, select the cell by placing your cursor within the cell text area and do any of the following:\n",
    "- Press `Shift` + `Enter` (to run the current cell and advance to the next cell)\n",
    "- Press `Ctrl` + `Enter` (to run the current cell, but keep the current cell selected)\n",
    "- Use the cell actions menu that is found at the far right of the cell to select the run cell option: ![Run Cell](https://docs.azuredatabricks.net/_images/cmd-run.png)"
   ]
  },
  {
   "cell_type": "markdown",
   "metadata": {},
   "source": [
    "The following cell is another example of a code cell. Run it to see it's output."
   ]
  },
  {
   "cell_type": "code",
   "execution_count": 8,
   "metadata": {},
   "outputs": [],
   "source": [
    "# This is also a code cell\n",
    "print(\"Welcome to the fabulous world of Databricks!\")"
   ]
  },
  {
   "cell_type": "markdown",
   "metadata": {},
   "source": [
    "The following cell, which displays its output as formatted text is a [markdown](https://en.wikipedia.org/wiki/Markdown) cell."
   ]
  },
  {
   "cell_type": "markdown",
   "metadata": {},
   "source": [
    "This is a *markdown* cell.\n",
    "\n",
    "To create a markdown cell you need to use a **\"magic\"** command which is the short name of a Databricks magic command. \n",
    "\n",
    "Magic commands start with ``%``. \n",
    "\n",
    "The magic for markdown is `%md`. \n",
    "\n",
    "The magic commmand must always be the first text within the cell.\n",
    "\n",
    "The following provides the list of supported magics:\n",
    "* `%python` - Allows you to execute **Python** code in the cell.\n",
    "* `%r` - Allows you to execute **R** code in the cell.\n",
    "* `%scala` - Allows you to execute **Scala** code in the cell.\n",
    "* `%sql` - Allows you to execute **SQL** statements in the cell.\n",
    "* `sh` - Allows you to execute **Bash Shell** commmands and code in the cell.\n",
    "* `fs` - Allows you to execute **Databricks Filesystem** commands in the cell.\n",
    "* `md` - Allows you to render **Markdown** syntax as formatted content in the cell.\n",
    "* `run` - Allows you to **[run another notebook](https://docs.azuredatabricks.net/user-guide/notebooks/notebook-use.html#run-a-notebook-from-another-notebook)** from a cell in the current notebook.\n",
    "\n",
    "To read more about magics see [here](https://docs.azuredatabricks.net/user-guide/notebooks/notebook-use.html#develop-notebooks)."
   ]
  },
  {
   "cell_type": "markdown",
   "metadata": {},
   "source": [
    "Double click on the above cell (or select the cell and press `ENTER`) and notice how the cell changes to an editable code cell. Observe that the first line starts with `%md`. This magic instructs the notebook not to run the cell contents as python, but instead to render the contents from the markdown syntax.\n",
    "\n",
    "To render the markdown, either run the cell, select another cell or press the `Esc` key."
   ]
  },
  {
   "cell_type": "markdown",
   "metadata": {},
   "source": [
    "#### Supported Markdown content"
   ]
  },
  {
   "cell_type": "markdown",
   "metadata": {},
   "source": [
    "Markdown notebook cells in Azure Databricks support a wide variety of content that help your notebook convey more than just code, these capabilities include:\n",
    "- [Linking to other notebooks](https://docs.azuredatabricks.net/user-guide/notebooks/notebook-use.html#link-to-other-notebooks)\n",
    "- [Displaying images](https://docs.azuredatabricks.net/user-guide/notebooks/notebook-use.html#display-images)\n",
    "- [Displaying mathematical equations](https://docs.azuredatabricks.net/user-guide/notebooks/notebook-use.html#display-mathematical-equations) using the KaTeX syntax\n",
    "- [Displaying HTML content (including SVG and D3)](https://docs.azuredatabricks.net/user-guide/visualizations/html-d3-and-svg.html)"
   ]
  },
  {
   "cell_type": "markdown",
   "metadata": {},
   "source": [
    "Try running the cell below to see how display some HTML code that loads the Bing website in an iFrame."
   ]
  },
  {
   "cell_type": "code",
   "execution_count": 15,
   "metadata": {},
   "outputs": [],
   "source": [
    "displayHTML(\"<iframe src='https://bing.com' width='100%' height='350px'/>\")"
   ]
  },
  {
   "cell_type": "markdown",
   "metadata": {},
   "source": [
    "### Understanding cell output"
   ]
  },
  {
   "cell_type": "markdown",
   "metadata": {},
   "source": [
    "By default, a notebook cell will output the value of evaluating the last line the cell."
   ]
  },
  {
   "cell_type": "markdown",
   "metadata": {},
   "source": [
    "Run the following cell. Observe that the entire cell is echoed in the output because the cell contains only one line."
   ]
  },
  {
   "cell_type": "code",
   "execution_count": 19,
   "metadata": {},
   "outputs": [],
   "source": [
    "\"Hello Databricks world!\""
   ]
  },
  {
   "cell_type": "markdown",
   "metadata": {},
   "source": [
    "Next, examine the following cell. What do you expect the output to be? Run the cell and confirm your understanding."
   ]
  },
  {
   "cell_type": "code",
   "execution_count": 21,
   "metadata": {},
   "outputs": [],
   "source": [
    "\"Hello Databricks world!\"\n",
    "\"And, hello Microsoft Ignite!\""
   ]
  },
  {
   "cell_type": "markdown",
   "metadata": {},
   "source": [
    "If you want to ensure your output displays something, use the `print` method."
   ]
  },
  {
   "cell_type": "code",
   "execution_count": 23,
   "metadata": {},
   "outputs": [],
   "source": [
    "print(\"Hello Databricks world!\")\n",
    "print(\"And, hello Microsoft Ignite!\")"
   ]
  },
  {
   "cell_type": "markdown",
   "metadata": {},
   "source": [
    "Not all code lines return a value to be output. Run the following cell to see one such an example."
   ]
  },
  {
   "cell_type": "code",
   "execution_count": 25,
   "metadata": {},
   "outputs": [],
   "source": [
    "text_variable = \"Hello, hello!\""
   ]
  },
  {
   "cell_type": "markdown",
   "metadata": {},
   "source": [
    "## Running multiple notebook cells"
   ]
  },
  {
   "cell_type": "markdown",
   "metadata": {},
   "source": [
    "It is not uncommon to need to run (or re-run) a subset of all notebook cells in top to bottom order.\n",
    "\n",
    "There are a few ways you can accomplish this. You can:\n",
    "- Run all cells in the notebook. Select `Run All` in the notebook toolbar to run all cells starting from the first.\n",
    "- Run cells above or below your current cell. To run all cells above or below a cell, go to the cell actions menu at the far right, select Run Menu, and then select Run All Above or Run All Below. ![](https://docs.azuredatabricks.net/_images/cmd-run.png)"
   ]
  },
  {
   "cell_type": "markdown",
   "metadata": {},
   "source": [
    "## Navigating Cells\n",
    "\n",
    "You can quickly navigate thru the cells in the notebook by using the `up` or `down` arrows. If your cursor is within a code cell, keep pressing up or down until your reach the top or bottom edge of the cell respectively and the focus will automatically jump to the next cell.\n",
    "\n",
    "When you navigate cells, observe the selected cell is highlighted with a darker black border."
   ]
  },
  {
   "cell_type": "markdown",
   "metadata": {},
   "source": [
    "Select this cell by single clicking. Then try navigating up 3 cells and then return to this cell once you have tried navigation out."
   ]
  },
  {
   "cell_type": "markdown",
   "metadata": {},
   "source": [
    "When you navigated between cells without entering into the mode where you could edit the cell, you were in `command mode`. \n",
    "\n",
    "When the editable text area has the cursor within it, you are in `edit mode`\n",
    "\n",
    "There are different functions and keyboard shortcuts available depending on which mode you are in."
   ]
  },
  {
   "cell_type": "markdown",
   "metadata": {},
   "source": [
    "## Managing notebook Cells"
   ]
  },
  {
   "cell_type": "markdown",
   "metadata": {},
   "source": [
    "You can perform many tasks within a notebook by using the UI or by using the keyboard shortcuts.\n",
    "\n",
    "To learn the shortcuts (or refresh your memory later), you can select the ![Shortcuts](https://docs.azuredatabricks.net/_images/keyboard.png) from the top right of notebook to display a dialog that lists all of the keyboard shortcuts."
   ]
  },
  {
   "cell_type": "markdown",
   "metadata": {},
   "source": [
    "### Keyboard shortcuts for adding and removing cells"
   ]
  },
  {
   "cell_type": "markdown",
   "metadata": {},
   "source": [
    "When a cell is in command mode press the following keys:\n",
    "\n",
    "* `A` (insert a cell above)\n",
    "* `B` (insert a cell below)\n",
    "* `D`,`D` (delete current cell)\n",
    "\n",
    "Try the following in your notebook:\n",
    "1. Insert a cell below this cell (`B`)\n",
    "2. Insert a cell above that new cell (`Esc`, `A`)\n",
    "3. Delete both new cells (`Esc`, `D`,`D`)"
   ]
  },
  {
   "cell_type": "markdown",
   "metadata": {},
   "source": [
    "### Adding and removing cells using the UI"
   ]
  },
  {
   "cell_type": "markdown",
   "metadata": {},
   "source": [
    "You can also add and remove cells using the UI. \n",
    "\n",
    "To add a cell, mouse over a cell at the top or bottom and click the ![Add Cell icon](https://docs.azuredatabricks.net/_images/add-cell.png).\n",
    "\n",
    "Alternately, access the notebook cell menu at the far right, select the down `caret`, and select `Add Cell Above` or `Add Cell Below` ![](https://docs.azuredatabricks.net/_images/cmd-edit.png)"
   ]
  },
  {
   "cell_type": "markdown",
   "metadata": {},
   "source": [
    "### Adjusting cell order"
   ]
  },
  {
   "cell_type": "markdown",
   "metadata": {},
   "source": [
    "You can move cells up or down within the notebook to fit your needs. \n",
    "\n",
    "You can do so using the UI or via keyboard shortcuts.\n",
    "\n",
    "When in command mode, you can cut and paste entire cells using keyboard shortcuts. To do so, select the cell and then press `X` to cut it. Use the `up` or `down` arrow keys to find the cell around which it should be pasted. Press `V` to paste the cell below the selected cell or press `SHIFT` + `V` to paste the cell above the selected cell.\n",
    "\n",
    "You can also move cells using the UI, by accessing the notebook cell menu at the far right, selecting the down `caret` and then selecting either `Move Up` or `Move Down` or the `Cut Cell` and `Paste Cell` options."
   ]
  },
  {
   "cell_type": "markdown",
   "metadata": {},
   "source": [
    "Experiment with the commands for re-ordering cells by adjusting the order of the following cells so that they appear in the order 1, 2, 3."
   ]
  },
  {
   "cell_type": "markdown",
   "metadata": {},
   "source": [
    "3 - This cell should appear third."
   ]
  },
  {
   "cell_type": "markdown",
   "metadata": {},
   "source": [
    "1 - This cell should appear first."
   ]
  },
  {
   "cell_type": "markdown",
   "metadata": {},
   "source": [
    "2 - This cell should appear second."
   ]
  },
  {
   "cell_type": "markdown",
   "metadata": {},
   "source": [
    "## Understanding notebook state"
   ]
  },
  {
   "cell_type": "markdown",
   "metadata": {},
   "source": [
    "When you execute notebook cells, their execution is backed by a process running on a cluster. The state of your notebook, such as the values of variables, is maintained in the process. All variables default to a global scope (unless you author your code so it has nested scopes) and this global state can be a little confusing at first when you re-run cells."
   ]
  },
  {
   "cell_type": "markdown",
   "metadata": {},
   "source": [
    "Run the following two cells in order and take note of the value ouput for the variable `y`:"
   ]
  },
  {
   "cell_type": "code",
   "execution_count": 46,
   "metadata": {},
   "outputs": [],
   "source": [
    "x = 10"
   ]
  },
  {
   "cell_type": "code",
   "execution_count": 47,
   "metadata": {},
   "outputs": [],
   "source": [
    "y = x + 1\n",
    "y"
   ]
  },
  {
   "cell_type": "markdown",
   "metadata": {},
   "source": [
    "Next, run the following cell."
   ]
  },
  {
   "cell_type": "code",
   "execution_count": 49,
   "metadata": {},
   "outputs": [],
   "source": [
    "x = 100"
   ]
  },
  {
   "cell_type": "markdown",
   "metadata": {},
   "source": [
    "Now select the cell that has the lines `y = x + 1` and `y`. And re-run that cell. Did the value of `y` meet your expectation? \n",
    "\n",
    "The value of `y` should now be `101`. This is because it is not the actual order of the cells that determines the value, but the order in which they are run and how that affects the underlying state itself. To understand this, realize that when the code `x = 100` was run, this changed the value of `x`, and then when you re-ran the cell containing `y = x + 1` this evaluation used the current value of x which is 100. This resulted in `y` having a value of `101` and not `11`."
   ]
  },
  {
   "cell_type": "markdown",
   "metadata": {},
   "source": [
    "### Clearing state and output\n",
    "\n",
    "You can use the **Clear** dropdown on the notebook toolbar remove output (results) or remove output and clear the underlying state. ![](https://docs.databricks.com/_images/clear-notebook.png)\n",
    "\n",
    "* Clear -> Clear Results (removes the displayed output for all cells)\n",
    "* Clear -> Clear State (removes all cell states)\n",
    "\n",
    "You typically do this when you want to cleanly re-run a notebook you have been working on and eliminate any accidental changes to the state that may have occured while you were authoring the notebook.\n",
    "\n",
    "Read more about execution context [here](https://docs.azuredatabricks.net/user-guide/notebooks/notebook-use.html#run-notebooks)."
   ]
  },
  {
   "cell_type": "markdown",
   "metadata": {},
   "source": [
    "### Introducing Spark DataFrames"
   ]
  },
  {
   "cell_type": "markdown",
   "metadata": {},
   "source": [
    "Let's create a simple DataFrame containing one column"
   ]
  },
  {
   "cell_type": "code",
   "execution_count": 54,
   "metadata": {},
   "outputs": [],
   "source": [
    "df = spark.range(1000).toDF(\"number\")\n",
    "display(df)"
   ]
  },
  {
   "cell_type": "markdown",
   "metadata": {},
   "source": [
    "Let's take a look at its content"
   ]
  },
  {
   "cell_type": "code",
   "execution_count": 56,
   "metadata": {},
   "outputs": [],
   "source": [
    "df.describe().show()"
   ]
  },
  {
   "cell_type": "markdown",
   "metadata": {},
   "source": [
    "Get access to a specific column"
   ]
  },
  {
   "cell_type": "code",
   "execution_count": 58,
   "metadata": {},
   "outputs": [],
   "source": [
    "df[\"number\"]"
   ]
  },
  {
   "cell_type": "markdown",
   "metadata": {},
   "source": [
    "And to all columns"
   ]
  },
  {
   "cell_type": "code",
   "execution_count": 60,
   "metadata": {},
   "outputs": [],
   "source": [
    "df.columns"
   ]
  },
  {
   "cell_type": "markdown",
   "metadata": {},
   "source": [
    "Take a look at the schema of the DataFrame"
   ]
  },
  {
   "cell_type": "code",
   "execution_count": 62,
   "metadata": {},
   "outputs": [],
   "source": [
    "df.schema"
   ]
  },
  {
   "cell_type": "markdown",
   "metadata": {},
   "source": [
    "Apply a simple projection and a simple filter to the DataFrame"
   ]
  },
  {
   "cell_type": "code",
   "execution_count": 64,
   "metadata": {},
   "outputs": [],
   "source": [
    "df.select(\"number\").show(15)"
   ]
  },
  {
   "cell_type": "markdown",
   "metadata": {},
   "source": [
    "Apply a more explicit filter"
   ]
  },
  {
   "cell_type": "code",
   "execution_count": 66,
   "metadata": {},
   "outputs": [],
   "source": [
    "df.where(\"number > 10 and number < 14\").show()"
   ]
  },
  {
   "cell_type": "markdown",
   "metadata": {},
   "source": [
    "Notice the difference between `df.where(\"number > 10 and number < 14\")` and the same expression followed by `.show()` or `.count()`. This is one core property of DataFrames called lazy evaluation (more about it later in the day). Try it yourself in the next cell."
   ]
  },
  {
   "cell_type": "code",
   "execution_count": 68,
   "metadata": {},
   "outputs": [],
   "source": [
    "# Your code goes here\n"
   ]
  },
  {
   "cell_type": "markdown",
   "metadata": {},
   "source": [
    "And finally, let's have some fun with sampling"
   ]
  },
  {
   "cell_type": "code",
   "execution_count": 70,
   "metadata": {},
   "outputs": [],
   "source": [
    "seed = 10\n",
    "withReplacement = False\n",
    "fraction = 0.02\n",
    "df.sample(withReplacement, fraction, seed).show(100)"
   ]
  },
  {
   "cell_type": "markdown",
   "metadata": {},
   "source": [
    "### Introducting Pandas DataFrames"
   ]
  },
  {
   "cell_type": "markdown",
   "metadata": {},
   "source": [
    "So far we've used Spark DataFrames which are the de facto choice in Databricks. Unless you are used to work with Pandas, in which case the next line will make you feel at home:"
   ]
  },
  {
   "cell_type": "code",
   "execution_count": 73,
   "metadata": {},
   "outputs": [],
   "source": [
    "pdf = df.toPandas()\n",
    "pdf.dtypes"
   ]
  },
  {
   "cell_type": "markdown",
   "metadata": {},
   "source": [
    "Let's create a new Pandas DataFrame"
   ]
  },
  {
   "cell_type": "code",
   "execution_count": 75,
   "metadata": {},
   "outputs": [],
   "source": [
    "import pandas as pd\n",
    "import numpy as  np\n",
    "pdf = pd.DataFrame(data={'ColumnA':np.linspace(0, 1, 11),\n",
    "                        'ColumnB':['red', 'yellow','blue', 'green', 'red', \\\n",
    "                                   'green','green','red', 'yellow','blue', 'green'],\n",
    "                        'ColumnC': np.random.randint(11)}) \n",
    "pdf"
   ]
  },
  {
   "cell_type": "code",
   "execution_count": 76,
   "metadata": {},
   "outputs": [],
   "source": [
    "#One column\n",
    "pdf['ColumnA']"
   ]
  },
  {
   "cell_type": "code",
   "execution_count": 77,
   "metadata": {},
   "outputs": [],
   "source": [
    "#Single value\n",
    "pdf.loc[0, 'ColumnA']"
   ]
  },
  {
   "cell_type": "code",
   "execution_count": 78,
   "metadata": {},
   "outputs": [],
   "source": [
    "#Slicing by index\n",
    "pdf.loc[3:7:2]"
   ]
  },
  {
   "cell_type": "code",
   "execution_count": 79,
   "metadata": {},
   "outputs": [],
   "source": [
    "pdf['ColumnB']=='red'"
   ]
  },
  {
   "cell_type": "code",
   "execution_count": 80,
   "metadata": {},
   "outputs": [],
   "source": [
    "#Boolean mask\n",
    "pdf[pdf['ColumnB']=='red']"
   ]
  },
  {
   "cell_type": "code",
   "execution_count": 81,
   "metadata": {},
   "outputs": [],
   "source": [
    "#Boolean mask multiple conditions\n",
    "pdf[(pdf['ColumnB']=='red') & (pdf['ColumnA']==0.4)]"
   ]
  },
  {
   "cell_type": "markdown",
   "metadata": {},
   "source": [
    "This concludes the Notebook Fundamentals lab.\n",
    "\n",
    "Through this lab you've been introduced to the core concepts related to Databricks notebooks structure and execution (cluster connections, cells, execution flow, and state).\n",
    "\n",
    "You have also tested some simple features of the core Databricks data modeling element - the Spark DataFrame and of it's traditional Python counterpart, the Pandas DataFrame."
   ]
  },
  {
   "cell_type": "markdown",
   "metadata": {},
   "source": [
    "## Next Steps\n",
    "\n",
    "Start the next lesson, [Why Apache Spark?]($./02%20Why%20Spark)"
   ]
  }
 ],
 "metadata": {
  "kernelspec": {
   "display_name": "Python 3",
   "language": "python",
   "name": "python3"
  },
  "language_info": {
   "codemirror_mode": {
    "name": "ipython",
    "version": 3
   },
   "file_extension": ".py",
   "mimetype": "text/x-python",
   "name": "python",
   "nbconvert_exporter": "python",
   "pygments_lexer": "ipython3",
   "version": "3.7.1"
  },
  "name": "01 Notebook Fundamentals",
  "notebookId": 291050440993616
 },
 "nbformat": 4,
 "nbformat_minor": 2
}
